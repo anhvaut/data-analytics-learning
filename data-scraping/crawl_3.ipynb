{
 "cells": [
  {
   "cell_type": "code",
   "execution_count": 1,
   "metadata": {},
   "outputs": [],
   "source": [
    "import tensorflow as tf\n",
    "import numpy as np\n",
    "import pandas as pd\n",
    "import bs4\n",
    "from urllib.request import urlopen\n",
    "import csv "
   ]
  },
  {
   "cell_type": "code",
   "execution_count": 2,
   "metadata": {},
   "outputs": [],
   "source": [
    "def readUrl(url):\n",
    "    web_data = urlopen(url)\n",
    "    html = web_data.read()\n",
    "    web_data.close()\n",
    "    data = bs4.BeautifulSoup(html, 'html.parser')\n",
    "    return data"
   ]
  },
  {
   "cell_type": "code",
   "execution_count": 3,
   "metadata": {},
   "outputs": [],
   "source": [
    "url = \"https://batdongsan.com.vn/ban-dat-phuong-hoa-khanh-bac\" \n",
    "soup = readUrl(url) \n",
    "main = soup.find('div', attrs={'class': 'Main'})\n",
    "results = main.find_all('div', class_='p-main')\n",
    "#print(results)"
   ]
  },
  {
   "cell_type": "code",
   "execution_count": 4,
   "metadata": {},
   "outputs": [],
   "source": [
    "rows = []\n",
    "rows.append(['title', 'price', 'location', 'area', 'time'])\n",
    "\n",
    "for result in results:\n",
    "    title = result.find('div', class_='p-main-text').getText()\n",
    "    price = result.find('strong', attrs={'class': 'product-price'}).getText()\n",
    "    location = result.find('strong', attrs={'class': 'product-city-dist'}).getText()\n",
    "    area = result.find('strong', attrs={'class': 'product-area'}).getText()\n",
    "    time = result.find('div', attrs={'class': 'floatright mar-right-10'}).getText()\n",
    "    rows.append([title, price, location, area, time])\n",
    "\n",
    "with open('bds.csv','w', encoding='utf-8', newline='') as f_output:\n",
    "    csv_output = csv.writer(f_output)\n",
    "    csv_output.writerows(rows)"
   ]
  }
 ],
 "metadata": {
  "kernelspec": {
   "display_name": "Python 3",
   "language": "python",
   "name": "python3"
  },
  "language_info": {
   "codemirror_mode": {
    "name": "ipython",
    "version": 3
   },
   "file_extension": ".py",
   "mimetype": "text/x-python",
   "name": "python",
   "nbconvert_exporter": "python",
   "pygments_lexer": "ipython3",
   "version": "3.7.1"
  }
 },
 "nbformat": 4,
 "nbformat_minor": 2
}
