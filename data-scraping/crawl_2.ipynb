{
 "cells": [
  {
   "cell_type": "code",
   "execution_count": 25,
   "metadata": {},
   "outputs": [
    {
     "name": "stdout",
     "output_type": "stream",
     "text": [
      "http://truyen1.net/\n"
     ]
    }
   ],
   "source": [
    "# import libraries\n",
    "import urllib.request\n",
    "from bs4 import BeautifulSoup\n",
    "import csv\n",
    "\n",
    "\n",
    "# specify the url\n",
    "urlpage =  'http://truyen1.net/'\n",
    "print(urlpage)\n",
    "# query the website and return the html to the variable 'page'\n",
    "page = urllib.request.urlopen(urlpage)\n",
    "# parse the html using beautiful soup and store in variable 'soup'\n",
    "soup = BeautifulSoup(page, 'html.parser')\n",
    "main = soup.find('div', attrs={'class': 'owl-carousel cListTopStory'})\n",
    "results = main.find_all('div', class_='item')\n",
    "#print (results)"
   ]
  },
  {
   "cell_type": "code",
   "execution_count": 26,
   "metadata": {},
   "outputs": [],
   "source": [
    "\n",
    "rows = []\n",
    "rows.append(['title', 'chapter'])\n",
    "\n",
    "for result in results:\n",
    "    title = result.find('div', attrs={'class': 'cLastUpdate'}).getText()\n",
    "    chapter = result.find('div', attrs={'class': 'cLastChapter'}).getText()\n",
    "    rows.append([title, chapter])\n",
    "\n",
    "with open('manga.csv','w', encoding='utf-8', newline='') as f_output:\n",
    "    csv_output = csv.writer(f_output)\n",
    "    csv_output.writerows(rows)"
   ]
  }
 ],
 "metadata": {
  "kernelspec": {
   "display_name": "Python 3",
   "language": "python",
   "name": "python3"
  },
  "language_info": {
   "codemirror_mode": {
    "name": "ipython",
    "version": 3
   },
   "file_extension": ".py",
   "mimetype": "text/x-python",
   "name": "python",
   "nbconvert_exporter": "python",
   "pygments_lexer": "ipython3",
   "version": "3.7.1"
  }
 },
 "nbformat": 4,
 "nbformat_minor": 2
}
