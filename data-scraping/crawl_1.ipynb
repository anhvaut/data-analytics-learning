{
 "cells": [
  {
   "cell_type": "code",
   "execution_count": 1,
   "metadata": {},
   "outputs": [],
   "source": [
    "import tensorflow as tf\n",
    "import numpy as np\n",
    "import pandas as pd\n",
    "import bs4\n",
    "import urllib.request\n",
    "import csv "
   ]
  },
  {
   "cell_type": "code",
   "execution_count": 2,
   "metadata": {},
   "outputs": [],
   "source": [
    "def readUrl(url):\n",
    "    page = urllib.request.urlopen(url)\n",
    "    data = bs4.BeautifulSoup(page, 'html.parser')\n",
    "    return data"
   ]
  },
  {
   "cell_type": "code",
   "execution_count": 4,
   "metadata": {},
   "outputs": [],
   "source": [
    "url = \"http://topphimhd.com/country/viet-nam/\" \n",
    "soup = readUrl(url) \n",
    "main = soup.find('div', class_='halim_box') \n",
    "results = main.find_all('article')\n",
    "#print(results)"
   ]
  },
  {
   "cell_type": "code",
   "execution_count": 5,
   "metadata": {},
   "outputs": [],
   "source": [
    "rows = []\n",
    "rows.append(['title', 'status'])\n",
    "\n",
    "for result in results:\n",
    "    title = result.find('h2', attrs={'class': 'entry-title'}).getText()\n",
    "    status = result.find('span', attrs={'class': 'status'}).getText()\n",
    "    rows.append([title, status])\n",
    "\n",
    "with open('tophd.csv','w', encoding='utf-8', newline='') as f_output:\n",
    "    csv_output = csv.writer(f_output)\n",
    "    csv_output.writerows(rows)"
   ]
  }
 ],
 "metadata": {
  "kernelspec": {
   "display_name": "Python 3",
   "language": "python",
   "name": "python3"
  },
  "language_info": {
   "codemirror_mode": {
    "name": "ipython",
    "version": 3
   },
   "file_extension": ".py",
   "mimetype": "text/x-python",
   "name": "python",
   "nbconvert_exporter": "python",
   "pygments_lexer": "ipython3",
   "version": "3.7.1"
  }
 },
 "nbformat": 4,
 "nbformat_minor": 2
}
