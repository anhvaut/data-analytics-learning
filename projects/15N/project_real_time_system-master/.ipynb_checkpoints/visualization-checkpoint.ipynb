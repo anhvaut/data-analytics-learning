{
 "cells": [
  {
   "cell_type": "code",
   "execution_count": 1,
   "metadata": {},
   "outputs": [],
   "source": [
    "import pandas as pd"
   ]
  },
  {
   "cell_type": "code",
   "execution_count": 2,
   "metadata": {},
   "outputs": [],
   "source": [
    "df = pd.read_csv('data_crawl/statistic_random_number.txt', sep=\",\", header=None, names=[\"BS\", \"Recent_Day\", \"Sum_Of_Appearance\", \"Not_Return\"])"
   ]
  },
  {
   "cell_type": "code",
   "execution_count": 3,
   "metadata": {},
   "outputs": [
    {
     "data": {
      "text/html": [
       "<div>\n",
       "<style scoped>\n",
       "    .dataframe tbody tr th:only-of-type {\n",
       "        vertical-align: middle;\n",
       "    }\n",
       "\n",
       "    .dataframe tbody tr th {\n",
       "        vertical-align: top;\n",
       "    }\n",
       "\n",
       "    .dataframe thead th {\n",
       "        text-align: right;\n",
       "    }\n",
       "</style>\n",
       "<table border=\"1\" class=\"dataframe\">\n",
       "  <thead>\n",
       "    <tr style=\"text-align: right;\">\n",
       "      <th></th>\n",
       "      <th>BS</th>\n",
       "      <th>Recent_Day</th>\n",
       "      <th>Sum_Of_Appearance</th>\n",
       "      <th>Not_Return</th>\n",
       "    </tr>\n",
       "  </thead>\n",
       "  <tbody>\n",
       "    <tr>\n",
       "      <th>0</th>\n",
       "      <td>0</td>\n",
       "      <td>04-04-2019</td>\n",
       "      <td>516</td>\n",
       "      <td>0</td>\n",
       "    </tr>\n",
       "    <tr>\n",
       "      <th>1</th>\n",
       "      <td>1</td>\n",
       "      <td>02-04-2019</td>\n",
       "      <td>527</td>\n",
       "      <td>2</td>\n",
       "    </tr>\n",
       "    <tr>\n",
       "      <th>2</th>\n",
       "      <td>2</td>\n",
       "      <td>04-04-2019</td>\n",
       "      <td>493</td>\n",
       "      <td>0</td>\n",
       "    </tr>\n",
       "    <tr>\n",
       "      <th>3</th>\n",
       "      <td>3</td>\n",
       "      <td>02-04-2019</td>\n",
       "      <td>528</td>\n",
       "      <td>2</td>\n",
       "    </tr>\n",
       "    <tr>\n",
       "      <th>4</th>\n",
       "      <td>4</td>\n",
       "      <td>25-03-2019</td>\n",
       "      <td>550</td>\n",
       "      <td>10</td>\n",
       "    </tr>\n",
       "  </tbody>\n",
       "</table>\n",
       "</div>"
      ],
      "text/plain": [
       "   BS  Recent_Day  Sum_Of_Appearance  Not_Return\n",
       "0   0  04-04-2019                516           0\n",
       "1   1  02-04-2019                527           2\n",
       "2   2  04-04-2019                493           0\n",
       "3   3  02-04-2019                528           2\n",
       "4   4  25-03-2019                550          10"
      ]
     },
     "execution_count": 3,
     "metadata": {},
     "output_type": "execute_result"
    }
   ],
   "source": [
    "df.head()"
   ]
  },
  {
   "cell_type": "code",
   "execution_count": 19,
   "metadata": {},
   "outputs": [
    {
     "data": {
      "text/plain": [
       "<matplotlib.axes._subplots.AxesSubplot at 0x119fc4710>"
      ]
     },
     "execution_count": 19,
     "metadata": {},
     "output_type": "execute_result"
    },
    {
     "data": {
      "image/png": "[encoded data removed]",
      "text/plain": [
       "<Figure size 432x288 with 1 Axes>"
      ]
     },
     "metadata": {
      "needs_background": "light"
     },
     "output_type": "display_data"
    }
   ],
   "source": [
    "# bộ số 10 xuất hiện thường xuyên nhất \n",
    "df.sort_values(\"Sum_Of_Appearance\")['Sum_Of_Appearance'].tail(10).plot(kind='bar')"
   ]
  },
  {
   "cell_type": "code",
   "execution_count": 21,
   "metadata": {},
   "outputs": [
    {
     "data": {
      "text/plain": [
       "49    01-04-2019\n",
       "61    01-04-2019\n",
       "62    01-04-2019\n",
       "43    01-04-2019\n",
       "66    01-04-2019\n",
       "35    01-04-2019\n",
       "28    01-04-2019\n",
       "82    01-04-2019\n",
       "20    01-04-2019\n",
       "15    01-04-2019\n",
       "55    01-04-2019\n",
       "10    01-04-2019\n",
       "70    02-04-2019\n",
       "3     02-04-2019\n",
       "1     02-04-2019\n",
       "8     02-04-2019\n",
       "65    02-04-2019\n",
       "93    02-04-2019\n",
       "50    02-04-2019\n",
       "53    02-04-2019\n",
       "90    02-04-2019\n",
       "14    02-04-2019\n",
       "13    02-04-2019\n",
       "87    02-04-2019\n",
       "17    02-04-2019\n",
       "56    02-04-2019\n",
       "73    03-04-2019\n",
       "37    03-04-2019\n",
       "88    03-04-2019\n",
       "47    03-04-2019\n",
       "         ...    \n",
       "25    24-03-2019\n",
       "4     25-03-2019\n",
       "51    25-03-2019\n",
       "19    25-03-2019\n",
       "23    26-03-2019\n",
       "7     26-03-2019\n",
       "40    26-03-2019\n",
       "33    26-03-2019\n",
       "38    26-03-2019\n",
       "94    27-03-2019\n",
       "89    27-03-2019\n",
       "58    27-03-2019\n",
       "74    28-03-2019\n",
       "11    28-03-2019\n",
       "68    28-03-2019\n",
       "57    29-03-2019\n",
       "71    29-03-2019\n",
       "39    29-03-2019\n",
       "24    30-03-2019\n",
       "12    30-03-2019\n",
       "72    30-03-2019\n",
       "95    30-03-2019\n",
       "44    30-03-2019\n",
       "59    30-03-2019\n",
       "99    30-03-2019\n",
       "54    31-03-2019\n",
       "32    31-03-2019\n",
       "36    31-03-2019\n",
       "5     31-03-2019\n",
       "21    31-03-2019\n",
       "Name: Recent_Day, Length: 100, dtype: object"
      ]
     },
     "execution_count": 21,
     "metadata": {},
     "output_type": "execute_result"
    }
   ],
   "source": [
    "# bộ số 10 xuất hiện ít nhất \n",
    "df.sort_values(\"Sum_Of_Appearance\")['Sum_Of_Appearance'].head(10).plot(kind='bar')"
   ]
  },
  {
   "cell_type": "code",
   "execution_count": null,
   "metadata": {},
   "outputs": [],
   "source": []
  }
 ],
 "metadata": {
  "kernelspec": {
   "display_name": "Python 3",
   "language": "python",
   "name": "python3"
  },
  "language_info": {
   "codemirror_mode": {
    "name": "ipython",
    "version": 3
   },
   "file_extension": ".py",
   "mimetype": "text/x-python",
   "name": "python",
   "nbconvert_exporter": "python",
   "pygments_lexer": "ipython3",
   "version": "3.6.5"
  }
 },
 "nbformat": 4,
 "nbformat_minor": 2
}
